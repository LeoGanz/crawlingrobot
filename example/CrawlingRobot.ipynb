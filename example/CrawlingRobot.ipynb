{
 "cells": [
  {
   "cell_type": "code",
   "execution_count": null,
   "metadata": {
    "colab": {
     "base_uri": "https://localhost:8080/"
    },
    "id": "UCb7z8qthxj7",
    "outputId": "9989a973-536c-44c7-b5ed-1f808b3d20bf"
   },
   "outputs": [],
   "source": [
    "#!git clone https://gitlab.lrz.de/arl-ws2021/gym-crawlingrobot.git\n",
    "#!pip install -e ../."
   ]
  },
  {
   "cell_type": "markdown",
   "metadata": {},
   "source": [
    "# Manual"
   ]
  },
  {
   "cell_type": "code",
   "execution_count": null,
   "metadata": {
    "colab": {
     "base_uri": "https://localhost:8080/"
    },
    "id": "SASy3Bcuv2Pe",
    "outputId": "5b8f8f4c-c670-4885-8f94-f488b1d14764"
   },
   "outputs": [],
   "source": [
    "import sys\n",
    "import numpy as np\n",
    "import pygame\n",
    "import os\n",
    "#os.environ['SDL_VIDEODRIVER']='dummy'\n",
    "import gym\n",
    "import gym_crawlingrobot"
   ]
  },
  {
   "cell_type": "code",
   "execution_count": null,
   "metadata": {},
   "outputs": [],
   "source": [
    "env = gym.make('crawlingrobot-discrete-v1', rotation_angles=5, goal_distance=1300, window_size=(1500, 800), render_intermediate_steps=True, plot_steps_per_episode=True)\n",
    "env.robot.mode = 2\n",
    "done = False\n",
    "terminate = False\n",
    "action = None\n",
    "env.reset()\n",
    "\n",
    "while not terminate:\n",
    "    for event in pygame.event.get():\n",
    "        if event.type == pygame.QUIT:\n",
    "            pygame.quit()\n",
    "            terminate = True\n",
    "            continue\n",
    "            #sys.exit(0)\n",
    "        elif event.type == pygame.KEYDOWN:\n",
    "            if event.key == pygame.K_ESCAPE:\n",
    "                pygame.quit()\n",
    "                terminate = True\n",
    "                continue\n",
    "                #sys.exit(0)\n",
    "            elif event.key == pygame.K_UP or event.key == pygame.K_w:\n",
    "                env.step(0)\n",
    "                action = 0\n",
    "            elif event.key == pygame.K_RIGHT or event.key == pygame.K_d:\n",
    "                action = 1\n",
    "            elif event.key == pygame.K_DOWN or event.key == pygame.K_s:\n",
    "                action = 2\n",
    "            elif event.key == pygame.K_LEFT or event.key == pygame.K_a:\n",
    "                action = 3\n",
    "            elif event.key == pygame.K_r:\n",
    "                env.reset()\n",
    "                action = 3\n",
    "            elif event.key == pygame.K_SPACE:\n",
    "                env.robot.render_intermediate_steps = not env.robot.render_intermediate_steps\n",
    "\n",
    "            if action:\n",
    "                obs, rewards, done, info = env.step(action)\n",
    "                action = None\n",
    "            if done:\n",
    "                env.reset()\n",
    "                action = 3\n",
    "\n",
    "    if not terminate:\n",
    "        env.render()\n",
    "    else: \n",
    "        print (\"exiting ... \")\n"
   ]
  },
  {
   "cell_type": "markdown",
   "metadata": {},
   "source": [
    "# Q-Learning"
   ]
  },
  {
   "cell_type": "code",
   "execution_count": null,
   "metadata": {
    "colab": {
     "base_uri": "https://localhost:8080/",
     "height": 374
    },
    "id": "0uw6R_AY2-zH",
    "outputId": "ddeb06e2-713e-45a4-9925-a5368bdce981"
   },
   "outputs": [],
   "source": [
    "np.set_printoptions(threshold=sys.maxsize)\n",
    "\n",
    "alpha = 0.3\n",
    "gamma = 0.9\n",
    "epsilon = 0.15\n",
    "maxSteps = 10000\n",
    "episodes = 200\n",
    "\n",
    "\n",
    "env = gym.make('crawlingrobot-discrete-v1', rotation_angles=5, goal_distance=2500, window_size=(1500, 800), plot_steps_per_episode=True)\n",
    "max = env.observation_space.high[0] + 1  # aktuell 5\n",
    "\n",
    "Q = np.zeros([max ** len(env.observation_space.high), env.action_space.n])\n",
    "terminate = False\n",
    "\n",
    "for episode in range (episodes):\n",
    "    done = False\n",
    "    state = env.reset()\n",
    "    step = 0\n",
    "\n",
    "    print(\"Episode\", episode, \"started...\")\n",
    "\n",
    "    while not done and step < maxSteps and not terminate:\n",
    "            for event in pygame.event.get():\n",
    "                if event.type == pygame.QUIT:\n",
    "                    pygame.quit()\n",
    "                    terminate = True\n",
    "                    #sys.exit(0)\n",
    "                elif event.type == pygame.KEYDOWN:\n",
    "                    if event.key == pygame.K_ESCAPE:\n",
    "                        pygame.quit()\n",
    "                        terminate = True\n",
    "                        #sys.exit(0)\n",
    "                    if event.key == pygame.K_SPACE:\n",
    "                        env.robot.render_intermediate_steps = not env.robot.render_intermediate_steps\n",
    "\n",
    "            \n",
    "            if not terminate:\n",
    "                # action selection\n",
    "                if np.random.rand() < epsilon:\n",
    "                    action = env.action_space.sample()\n",
    "                else:\n",
    "                    action = np.argmax(Q[state])\n",
    "\n",
    "                # perform action in environment\n",
    "                nextObs, reward, done, _ = env.step(action)\n",
    "                env.render()\n",
    "                nextState = int(nextObs[0] * max + nextObs[1])\n",
    "\n",
    "                # Q-learning\n",
    "                Q[state, action] += alpha * (reward + gamma * np.max(Q[nextState]) - Q[state, action])\n",
    "\n",
    "                # time transition\n",
    "                state = nextState\n",
    "                step += 1\n",
    "            else: \n",
    "                print (\"exiting ... \")\n",
    "                break\n",
    "\n",
    "\n",
    "    if not terminate: \n",
    "        res = 0\n",
    "        if len(env.robot.episode_time_results) > 0:\n",
    "            res = env.robot.episode_time_results[-1]\n",
    "        print(\"Episode\", episode, \"took\", step, \"steps, took\", res,\"simulation seconds\")\n",
    "    else:\n",
    "        pygame.quit()\n",
    "        break\n"
   ]
  },
  {
   "cell_type": "markdown",
   "metadata": {
    "id": "fpxQT37sIuRK"
   },
   "source": [
    "# PPO2\n",
    "\n"
   ]
  },
  {
   "cell_type": "code",
   "execution_count": null,
   "metadata": {},
   "outputs": [],
   "source": [
    "#!pip install stable-baselines\n",
    "#!pip install tensorflow==1.15"
   ]
  },
  {
   "cell_type": "code",
   "execution_count": null,
   "metadata": {
    "colab": {
     "base_uri": "https://localhost:8080/"
    },
    "id": "Rfj_Nq08JEJg",
    "outputId": "d0fbe109-ba32-45ab-b8e6-cb0ad51b3d7b"
   },
   "outputs": [],
   "source": [
    "import pygame\n",
    "import sys\n",
    "from stable_baselines.common.policies import MlpPolicy\n",
    "from stable_baselines.common.vec_env import DummyVecEnv, VecNormalize\n",
    "from stable_baselines.bench import Monitor\n",
    "from stable_baselines import PPO2\n",
    "import gym\n",
    "import gym_crawlingrobot"
   ]
  },
  {
   "cell_type": "code",
   "execution_count": null,
   "metadata": {
    "colab": {
     "base_uri": "https://localhost:8080/",
     "height": 1000
    },
    "id": "25QXzNWkJTEs",
    "outputId": "4385d29c-55aa-46e3-f6f8-966bfe82d6c4",
    "tags": []
   },
   "outputs": [],
   "source": [
    "log_dir = \"\"\n",
    "env = gym.make('crawlingrobot-continuous-v1', goal_distance=2500, window_size=(1500, 800), render_intermediate_steps=False)\n",
    "robot_env = env\n",
    "ppo2 = \"ppo2\"\n",
    "os.makedirs(ppo2, exist_ok=True)\n",
    "\n",
    "def learn():\n",
    "    global env\n",
    "    env = VecNormalize(DummyVecEnv([lambda: Monitor(env, log_dir)]), norm_obs=True, norm_reward=False)\n",
    "    model = PPO2(MlpPolicy, env, verbose=1, learning_rate=0.15)\n",
    "    model.learn(total_timesteps=30000, callback=callback)\n",
    "    model.save(\"ppo2/ppo2_crawling_robot\")\n",
    "    env.save(\"ppo2/vec_normalize.pkl\")\n",
    " \n",
    "    del model, env\n",
    "\n",
    "def callback(a, b):\n",
    "    for event in pygame.event.get():\n",
    "        if event.type == pygame.QUIT:\n",
    "            pygame.quit()\n",
    "            sys.exit(0)\n",
    "        elif event.type == pygame.KEYDOWN:\n",
    "            if event.key == pygame.K_ESCAPE:\n",
    "                pygame.quit()\n",
    "                sys.exit(0)\n",
    "            if event.key == pygame.K_SPACE:\n",
    "                robot_env.robot.render_intermediate_steps = not robot_env.robot.render_intermediate_steps\n",
    "\n",
    "    env.render()\n",
    "\n",
    "def show():\n",
    "    global env\n",
    "    env = DummyVecEnv([lambda: Monitor(env, log_dir)])\n",
    "    env = VecNormalize.load(\"ppo2/vec_normalize.pkl\", env)\n",
    "    model = PPO2.load(\"ppo2/ppo2_crawling_robot\")\n",
    "\n",
    "    env.training = False\n",
    "    env.norm_reward = False\n",
    "\n",
    "    obs = env.reset()\n",
    "    done = False\n",
    "\n",
    "    while True:\n",
    "        if done:\n",
    "            env.reset()\n",
    "\n",
    "        action, _states = model.predict(obs)\n",
    "        print(action)\n",
    "        obs, rewards, done, info = env.step(action)\n",
    "        callback(None, None)\n",
    "\n",
    "\n",
    "learn()\n",
    "#show()\n",
    "pygame.quit()\n"
   ]
  },
  {
   "cell_type": "code",
   "execution_count": null,
   "metadata": {},
   "outputs": [],
   "source": []
  }
 ],
 "metadata": {
  "accelerator": "GPU",
  "colab": {
   "collapsed_sections": [],
   "name": "CrawlingRobot.ipynb",
   "provenance": []
  },
  "kernelspec": {
   "display_name": "Python 3 (ipykernel)",
   "language": "python",
   "name": "python3"
  },
  "language_info": {
   "codemirror_mode": {
    "name": "ipython",
    "version": 3
   },
   "file_extension": ".py",
   "mimetype": "text/x-python",
   "name": "python",
   "nbconvert_exporter": "python",
   "pygments_lexer": "ipython3",
   "version": "3.7.9"
  }
 },
 "nbformat": 4,
 "nbformat_minor": 1
}
